{
 "cells": [
  {
   "cell_type": "code",
   "execution_count": 1,
   "metadata": {},
   "outputs": [],
   "source": [
    "import numpy as np\n",
    "import matplotlib.pyplot as plt\n",
    "import h5py # 处理HDF5文件\n",
    "import scipy # 科学计算工具\n",
    "from PIL import Image # Python Image Library\n",
    "from scipy import ndimage # 图像处理模块"
   ]
  },
  {
   "cell_type": "code",
   "execution_count": 2,
   "metadata": {},
   "outputs": [
    {
     "name": "stdout",
     "output_type": "stream",
     "text": [
      "train_set_x_orig:(209, 64, 64, 3)\n",
      "train_set_y_orig:(209,)\n",
      "test_set_x_orig:(50, 64, 64, 3)\n",
      "test_set_y_orig:(50,)\n"
     ]
    }
   ],
   "source": [
    "# 读取数据\n",
    "\n",
    "train_dataset = h5py.File(\"train_cat.h5\", \"r\") \n",
    "test_dataset = h5py.File(\"test_cat.h5\", \"r\")\n",
    "    \n",
    "train_set_x_orig = np.array(train_dataset[\"train_set_x\"][:]) # 原始数据\n",
    "train_set_y_orig = np.array(train_dataset[\"train_set_y\"][:]) \n",
    "\n",
    "test_set_x_orig = np.array(test_dataset[\"test_set_x\"][:])\n",
    "test_set_y_orig = np.array(test_dataset[\"test_set_y\"][:]) \n",
    "\n",
    "print('train_set_x_orig:' + str(train_set_x_orig.shape))\n",
    "print('train_set_y_orig:' + str(train_set_y_orig.shape))\n",
    "print('test_set_x_orig:' + str(test_set_x_orig.shape))\n",
    "print('test_set_y_orig:' + str(test_set_y_orig.shape))"
   ]
  },
  {
   "cell_type": "code",
   "execution_count": 3,
   "metadata": {},
   "outputs": [
    {
     "name": "stdout",
     "output_type": "stream",
     "text": [
      "y = 1\n"
     ]
    },
    {
     "data": {
      "image/png": "[encoded data removed]",
      "text/plain": [
       "<Figure size 432x288 with 1 Axes>"
      ]
     },
     "metadata": {
      "needs_background": "light"
     },
     "output_type": "display_data"
    }
   ],
   "source": [
    "# 数据可视化\n",
    "\n",
    "index = 24\n",
    "plt.imshow(train_set_x_orig[index])\n",
    "print('y = ' + str(train_set_y_orig[index]))"
   ]
  },
  {
   "cell_type": "code",
   "execution_count": 4,
   "metadata": {},
   "outputs": [
    {
     "name": "stdout",
     "output_type": "stream",
     "text": [
      "train_set_x:(12288, 209)\n",
      "train_set_y:(1, 209)\n",
      "test_set_x:(12288, 50)\n",
      "test_set_y:(1, 50)\n"
     ]
    }
   ],
   "source": [
    "# 数据处理\n",
    "\n",
    "train_set_x_flatten = train_set_x_orig.reshape(train_set_x_orig.shape[0], -1).T # 重塑，一张图片用一个特征向量表示\n",
    "test_set_x_flatten = test_set_x_orig.reshape(test_set_x_orig.shape[0], -1).T\n",
    "\n",
    "train_set_x = train_set_x_flatten / 255. #标准化\n",
    "test_set_x = test_set_x_flatten / 255.\n",
    "\n",
    "train_set_y = train_set_y_orig.reshape((1, train_set_y_orig.shape[0])) # 重塑\n",
    "test_set_y = test_set_y_orig.reshape((1, test_set_y_orig.shape[0]))\n",
    "\n",
    "print('train_set_x:' + str(train_set_x.shape))\n",
    "print('train_set_y:' + str(train_set_y.shape))\n",
    "print('test_set_x:' + str(test_set_x.shape))\n",
    "print('test_set_y:' + str(test_set_y.shape))"
   ]
  },
  {
   "cell_type": "code",
   "execution_count": 5,
   "metadata": {},
   "outputs": [],
   "source": [
    "# 单次成本、梯度\n",
    "\n",
    "def sigmoid(z):\n",
    "    s = 1.0 / (1 + np.exp(-z))\n",
    "    return s\n",
    "\n",
    "def propagate(w, b, X, Y):\n",
    "    m = X.shape[1] # 训练样本数量\n",
    "    \n",
    "    Y_hat = sigmoid(np.dot(w.T, X) + b) # 假设函数\n",
    "    cost = -(np.dot(Y, np.log(Y_hat).T) + np.dot((1 - Y), np.log(1 - Y_hat).T)) / m # 成本函数\n",
    "    \n",
    "    dw = np.dot(X, (Y_hat - Y).T) / m # 求导\n",
    "    db = np.sum(Y_hat - Y) / m\n",
    "    \n",
    "    cost = np.squeeze(cost) # 清除单维度\n",
    "    grads = {'dw': dw, 'db': db}\n",
    "    \n",
    "    return cost, grads"
   ]
  },
  {
   "cell_type": "code",
   "execution_count": 17,
   "metadata": {},
   "outputs": [],
   "source": [
    "# 梯度下降\n",
    "\n",
    "def optimize(w, b, X, Y, num_iters, learning_rate, print_cost = False): \n",
    "    costs = [] # 记录成本 \n",
    "    \n",
    "    for i in range(num_iters):\n",
    "        cost, grads = propagate(w, b, X, Y)\n",
    "        dw = grads['dw']\n",
    "        db = grads['db']\n",
    "        \n",
    "        w = w - learning_rate*dw\n",
    "        b = b - learning_rate*db\n",
    "        \n",
    "        if i % 100 == 0:\n",
    "            costs.append(cost)\n",
    "            \n",
    "        if print_cost and i % 100 == 0:\n",
    "            print('梯度下降%i次后的成本为：%f' %(i, cost))\n",
    "    \n",
    "    params = {'w': w, 'b': b} # 求得的参数值\n",
    "    grads = {'dw': dw, 'db': db}\n",
    "    \n",
    "    return params, grads, costs"
   ]
  },
  {
   "cell_type": "code",
   "execution_count": 24,
   "metadata": {},
   "outputs": [],
   "source": [
    "# 输出分类结果\n",
    "\n",
    "def predict(w, b, X):\n",
    "    m = X.shape[1]\n",
    "    \n",
    "    Y_prediction = np.zeros((1, m))\n",
    "    w = w.reshape(X.shape[0], 1)\n",
    "    Y_hat = sigmoid(np.dot(w.T, X) + b)\n",
    "    \n",
    "    for i in range(Y_hat.shape[1]):\n",
    "        if Y_hat[:, i] > 0.5:\n",
    "            Y_prediction[:, i] = 1\n",
    "        else:\n",
    "            Y_prediction[:, i] = 0\n",
    "            \n",
    "    return Y_prediction"
   ]
  },
  {
   "cell_type": "code",
   "execution_count": 25,
   "metadata": {},
   "outputs": [
    {
     "name": "stdout",
     "output_type": "stream",
     "text": [
      "梯度下降0次后的成本为：0.693147\n",
      "梯度下降100次后的成本为：0.584508\n",
      "梯度下降200次后的成本为：0.466949\n",
      "梯度下降300次后的成本为：0.376007\n",
      "梯度下降400次后的成本为：0.331463\n",
      "梯度下降500次后的成本为：0.303273\n",
      "梯度下降600次后的成本为：0.279880\n",
      "梯度下降700次后的成本为：0.260042\n",
      "梯度下降800次后的成本为：0.242941\n",
      "梯度下降900次后的成本为：0.228004\n",
      "梯度下降1000次后的成本为：0.214820\n",
      "梯度下降1100次后的成本为：0.203078\n",
      "梯度下降1200次后的成本为：0.192544\n",
      "梯度下降1300次后的成本为：0.183033\n",
      "梯度下降1400次后的成本为：0.174399\n",
      "梯度下降1500次后的成本为：0.166521\n",
      "梯度下降1600次后的成本为：0.159305\n",
      "梯度下降1700次后的成本为：0.152667\n",
      "梯度下降1800次后的成本为：0.146542\n",
      "梯度下降1900次后的成本为：0.140872\n",
      "\n",
      "w = [[ 0.00961402]\n",
      " [-0.0264683 ]\n",
      " [-0.01226513]\n",
      " ...\n",
      " [-0.01144453]\n",
      " [-0.02944783]\n",
      " [ 0.02378106]]\n",
      "b = -0.015906243999692996\n"
     ]
    }
   ],
   "source": [
    "# 学习参数\n",
    "\n",
    "w_init = np.zeros((train_set_x.shape[0], 1)) # 参数初始化\n",
    "b_init = 0\n",
    "\n",
    "num_iters = 2000 # 迭代次数\n",
    "alpha = 0.005 # 学习率\n",
    "\n",
    "params, grads, costs = optimize(w_init, b_init, train_set_x, train_set_y, num_iters, alpha, True)\n",
    "w = params['w']\n",
    "b = params['b']\n",
    "print('\\nw = ' + str(w))\n",
    "print('b = ' + str(b))"
   ]
  },
  {
   "cell_type": "code",
   "execution_count": 26,
   "metadata": {},
   "outputs": [
    {
     "name": "stdout",
     "output_type": "stream",
     "text": [
      "训练集识别准确度: 99.04306220095694 %\n",
      "测试集识别准确度: 70.0 %\n"
     ]
    }
   ],
   "source": [
    "# 识别准确度\n",
    "\n",
    "Y_predict_train = predict(w, b, train_set_x) #训练集预测结果\n",
    "Y_predict_test = predict(w, b, test_set_x) #测试集\n",
    "\n",
    "train_accuracy = 100 - np.mean(np.abs(Y_predict_train - train_set_y)) * 100 # 训练集识别准确度\n",
    "test_accuracy = 100 - np.mean(np.abs(Y_predict_test - test_set_y)) * 100 # 测试集\n",
    "print(\"训练集识别准确度: {} %\".format(train_accuracy))\n",
    "print(\"测试集识别准确度: {} %\".format(test_accuracy))"
   ]
  },
  {
   "cell_type": "code",
   "execution_count": 28,
   "metadata": {},
   "outputs": [
    {
     "data": {
      "image/png": "[encoded data removed]",
      "text/plain": [
       "<Figure size 432x288 with 1 Axes>"
      ]
     },
     "metadata": {
      "needs_background": "light"
     },
     "output_type": "display_data"
    }
   ],
   "source": [
    "# 学习曲线\n",
    "\n",
    "plt.plot(costs)\n",
    "plt.ylabel('cost')\n",
    "plt.xlabel('iteras(per hundreds)')\n",
    "plt.title(r'$\\alpha = $' + str(alpha))\n",
    "plt.show()"
   ]
  },
  {
   "cell_type": "code",
   "execution_count": 30,
   "metadata": {},
   "outputs": [
    {
     "data": {
      "text/plain": [
       "<matplotlib.legend.Legend at 0x7f2fbcb8bda0>"
      ]
     },
     "execution_count": 30,
     "metadata": {},
     "output_type": "execute_result"
    },
    {
     "data": {
      "image/png": "[encoded data removed]",
      "text/plain": [
       "<Figure size 432x288 with 1 Axes>"
      ]
     },
     "metadata": {
      "needs_background": "light"
     },
     "output_type": "display_data"
    }
   ],
   "source": [
    "# 学习率对比\n",
    "\n",
    "alpha_1 = 0.01 \n",
    "_, _, costs_1 = optimize(w_init, b_init, train_set_x, train_set_y, num_iters, alpha_1, False)\n",
    "plt.plot(range(len(costs_1)), costs_1, c = 'b', label = r'$\\alpha=0.01$');\n",
    "plt.ylabel('cost')\n",
    "plt.xlabel('iters')\n",
    "\n",
    "alpha_2 = 0.001\n",
    "_, _, costs_2 = optimize(w_init, b_init, train_set_x, train_set_y, num_iters, alpha_2, False)\n",
    "plt.plot(range(len(costs_2)), costs_2, c = 'r', label = r'$\\alpha=0.001$');\n",
    "\n",
    "alpha_3 = 0.0001\n",
    "_, _, costs_3 = optimize(w_init, b_init, train_set_x, train_set_y, num_iters, alpha_3, False)\n",
    "plt.plot(range(len(costs_3)), costs_3, c = 'g', label = r'$\\alpha=0.0001$');\n",
    "plt.legend()"
   ]
  },
  {
   "cell_type": "code",
   "execution_count": null,
   "metadata": {},
   "outputs": [],
   "source": []
  }
 ],
 "metadata": {
  "kernelspec": {
   "display_name": "Python 3",
   "language": "python",
   "name": "python3"
  },
  "language_info": {
   "codemirror_mode": {
    "name": "ipython",
    "version": 3
   },
   "file_extension": ".py",
   "mimetype": "text/x-python",
   "name": "python",
   "nbconvert_exporter": "python",
   "pygments_lexer": "ipython3",
   "version": "3.7.3"
  }
 },
 "nbformat": 4,
 "nbformat_minor": 2
}
