{
 "cells": [
  {
   "cell_type": "code",
   "execution_count": 3,
   "metadata": {},
   "outputs": [],
   "source": [
    "import numpy as np\n",
    "import tensorflow as tf\n",
    "from tensorflow import keras\n",
    "import itertools # 迭代器工具\n",
    "\n",
    "import matplotlib.pyplot as plt\n",
    "import matplotlib.image as mpimg\n",
    "\n",
    "import pandas as pd # 数据分析\n",
    "import seaborn as sns # 数据可视化\n",
    "\n",
    "from sklearn.model_selection import train_test_split # 数据集划分\n",
    "from sklearn.metrics import confusion_matrix # 混淆矩阵\n",
    "\n",
    "from keras.models import Sequential # 顺序模型\n",
    "from keras.layers import Dense, Dropout, Flatten, Conv2D, MaxPool2D # CNN层\n",
    "from keras.optimizers import RMSprop # 均方根优化算法\n",
    "from keras.preprocessing.image import ImageDataGenerator # 图像扩增\n",
    "from keras.callbacks import ReduceLROnPlateau # 学习停滞时减小学习率\n",
    "\n",
    "np.random.seed(2)\n",
    "sns.set(style='white', context='notebook', palette='deep')"
   ]
  },
  {
   "cell_type": "code",
   "execution_count": 2,
   "metadata": {},
   "outputs": [],
   "source": [
    "# 数据整理\n",
    "\n",
    "train = pd.read_csv(\"train.csv\")\n",
    "test = pd.read_csv(\"test.csv\")\n",
    "\n",
    "Y_train = train[\"label\"]\n",
    "X_train = train.drop(labels=[\"label\"], axis=1) # 丢弃标签\n",
    "del train # 释放空间"
   ]
  },
  {
   "cell_type": "code",
   "execution_count": 3,
   "metadata": {},
   "outputs": [
    {
     "data": {
      "text/plain": [
       "1    4684\n",
       "7    4401\n",
       "3    4351\n",
       "9    4188\n",
       "2    4177\n",
       "6    4137\n",
       "0    4132\n",
       "4    4072\n",
       "8    4063\n",
       "5    3795\n",
       "Name: label, dtype: int64"
      ]
     },
     "execution_count": 3,
     "metadata": {},
     "output_type": "execute_result"
    },
    {
     "data": {
      "image/png": "[encoded data removed]",
      "text/plain": [
       "<Figure size 432x288 with 1 Axes>"
      ]
     },
     "metadata": {
      "needs_background": "light"
     },
     "output_type": "display_data"
    }
   ],
   "source": [
    "#  可视化\n",
    "\n",
    "g = sns.countplot(Y_train) # 各标签数量可视化\n",
    "Y_train.value_counts() # 各标签数量"
   ]
  },
  {
   "cell_type": "code",
   "execution_count": 4,
   "metadata": {},
   "outputs": [
    {
     "data": {
      "text/plain": [
       "count       784\n",
       "unique        1\n",
       "top       False\n",
       "freq        784\n",
       "dtype: object"
      ]
     },
     "execution_count": 4,
     "metadata": {},
     "output_type": "execute_result"
    }
   ],
   "source": [
    "# 数据检查\n",
    "\n",
    "X_train.isnull().any().describe()"
   ]
  },
  {
   "cell_type": "code",
   "execution_count": 5,
   "metadata": {},
   "outputs": [
    {
     "data": {
      "text/plain": [
       "count       784\n",
       "unique        1\n",
       "top       False\n",
       "freq        784\n",
       "dtype: object"
      ]
     },
     "execution_count": 5,
     "metadata": {},
     "output_type": "execute_result"
    }
   ],
   "source": [
    "test.isnull().any().describe()"
   ]
  },
  {
   "cell_type": "code",
   "execution_count": 6,
   "metadata": {},
   "outputs": [],
   "source": [
    "# 归一化\n",
    "\n",
    "X_train = X_train / 255.0\n",
    "test = test / 255.0"
   ]
  },
  {
   "cell_type": "code",
   "execution_count": 7,
   "metadata": {},
   "outputs": [],
   "source": [
    "# 重塑大小\n",
    "\n",
    "X_train = X_train.values.reshape(-1, 28, 28, 1) # 28*28*1\n",
    "test = test.values.reshape(-1, 28, 28, 1)"
   ]
  },
  {
   "cell_type": "code",
   "execution_count": 8,
   "metadata": {},
   "outputs": [],
   "source": [
    "# one-hot标签\n",
    "\n",
    "Y_train = keras.utils.to_categorical(Y_train, num_classes=10)"
   ]
  },
  {
   "cell_type": "code",
   "execution_count": 9,
   "metadata": {},
   "outputs": [],
   "source": [
    "# 划分交叉验证集\n",
    "\n",
    "X_train, X_val, Y_train, Y_val = train_test_split(X_train, Y_train, test_size=0.1, random_state=2)\n",
    "# test_size: 浮点数则表示占比，整数则表示样本数 random_state: 随机数种子"
   ]
  },
  {
   "cell_type": "code",
   "execution_count": 10,
   "metadata": {},
   "outputs": [
    {
     "data": {
      "image/png": "[encoded data removed]",
      "text/plain": [
       "<Figure size 432x288 with 1 Axes>"
      ]
     },
     "metadata": {
      "needs_background": "light"
     },
     "output_type": "display_data"
    }
   ],
   "source": [
    "# 可视化训练样本\n",
    "\n",
    "g = plt.imshow(X_train[1024][:, :, 0], cmap=plt.cm.gray_r)"
   ]
  },
  {
   "cell_type": "code",
   "execution_count": 11,
   "metadata": {},
   "outputs": [],
   "source": [
    "# 建立CNN模型：\n",
    "# 输入层 -> [卷积层*2(Conv2D) -> 池化层(MaxPool) -> 随机失活*2(Dropout)]*2 -> 展平(Flatten) -> 全连接(Dense) -> 随机失活(Dropout) -> 输出\n",
    "\n",
    "model = Sequential() \n",
    "model.add(Conv2D(filters=32, kernel_size=(5, 5), padding='Same', activation='relu', input_shape=(28, 28, 1))) \n",
    "model.add(Conv2D(filters=32, kernel_size=(5, 5), padding='Same', activation='relu'))\n",
    "model.add(MaxPool2D(pool_size=(2, 2)))\n",
    "model.add(Dropout(0.25))\n",
    "\n",
    "model.add(Conv2D(filters=64, kernel_size=(3, 3), padding='Same', activation='relu'))\n",
    "model.add(Conv2D(filters=32, kernel_size=(3, 3), padding='Same', activation='relu'))\n",
    "model.add(MaxPool2D(pool_size=(2, 2)))\n",
    "model.add(Dropout(0.25))\n",
    "\n",
    "model.add(Flatten())\n",
    "model.add(Dense(256, activation='relu'))\n",
    "model.add(Dropout(0.5))\n",
    "model.add(Dense(10, activation='softmax'))"
   ]
  },
  {
   "cell_type": "code",
   "execution_count": 12,
   "metadata": {},
   "outputs": [],
   "source": [
    "optimizer = RMSprop(lr=0.001, rho=0.9, epsilon=1e-08, decay=0.0)\n",
    "model.compile(optimizer=optimizer, loss='categorical_crossentropy', metrics=['accuracy'])"
   ]
  },
  {
   "cell_type": "code",
   "execution_count": 13,
   "metadata": {},
   "outputs": [],
   "source": [
    "datagen = ImageDataGenerator(\n",
    "        featurewise_center=False,  # set input mean to 0 over the dataset\n",
    "        samplewise_center=False,  # set each sample mean to 0\n",
    "        featurewise_std_normalization=False,  # divide inputs by std of the dataset\n",
    "        samplewise_std_normalization=False,  # divide each input by its std\n",
    "        zca_whitening=False,  # apply ZCA whitening\n",
    "        rotation_range=10,  # randomly rotate images in the range (degrees, 0 to 180)\n",
    "        zoom_range = 0.1, # Randomly zoom image \n",
    "        width_shift_range=0.1,  # randomly shift images horizontally (fraction of total width)\n",
    "        height_shift_range=0.1,  # randomly shift images vertically (fraction of total height)\n",
    "        horizontal_flip=False,  # randomly flip images\n",
    "        vertical_flip=False)  # randomly flip images\n",
    "\n",
    "datagen.fit(X_train)"
   ]
  },
  {
   "cell_type": "code",
   "execution_count": 14,
   "metadata": {},
   "outputs": [
    {
     "name": "stdout",
     "output_type": "stream",
     "text": [
      "Epoch 1/30\n",
      " - 60s - loss: 0.4622 - acc: 0.8528 - val_loss: 0.0836 - val_acc: 0.9748\n",
      "Epoch 2/30\n",
      " - 36s - loss: 0.1478 - acc: 0.9551 - val_loss: 0.0498 - val_acc: 0.9838\n",
      "Epoch 3/30\n",
      " - 39s - loss: 0.1090 - acc: 0.9676 - val_loss: 0.0390 - val_acc: 0.9890\n",
      "Epoch 4/30\n",
      " - 42s - loss: 0.0918 - acc: 0.9720 - val_loss: 0.0351 - val_acc: 0.9898\n",
      "Epoch 5/30\n",
      " - 35s - loss: 0.0805 - acc: 0.9762 - val_loss: 0.0335 - val_acc: 0.9910\n",
      "Epoch 6/30\n",
      " - 40s - loss: 0.0750 - acc: 0.9783 - val_loss: 0.0363 - val_acc: 0.9895\n",
      "Epoch 7/30\n",
      " - 35s - loss: 0.0679 - acc: 0.9804 - val_loss: 0.0356 - val_acc: 0.9881\n",
      "Epoch 8/30\n",
      " - 40s - loss: 0.0653 - acc: 0.9815 - val_loss: 0.0378 - val_acc: 0.9883\n",
      "\n",
      "Epoch 00008: ReduceLROnPlateau reducing learning rate to 0.0005000000237487257.\n",
      "Epoch 9/30\n",
      " - 43s - loss: 0.0518 - acc: 0.9852 - val_loss: 0.0226 - val_acc: 0.9919\n",
      "Epoch 10/30\n",
      " - 37s - loss: 0.0515 - acc: 0.9851 - val_loss: 0.0183 - val_acc: 0.9940\n",
      "Epoch 11/30\n",
      " - 44s - loss: 0.0517 - acc: 0.9852 - val_loss: 0.0238 - val_acc: 0.9931\n",
      "Epoch 12/30\n",
      " - 35s - loss: 0.0499 - acc: 0.9860 - val_loss: 0.0242 - val_acc: 0.9933\n",
      "Epoch 13/30\n",
      " - 42s - loss: 0.0492 - acc: 0.9859 - val_loss: 0.0165 - val_acc: 0.9948\n",
      "Epoch 14/30\n",
      " - 41s - loss: 0.0461 - acc: 0.9866 - val_loss: 0.0342 - val_acc: 0.9907\n",
      "Epoch 15/30\n",
      " - 40s - loss: 0.0436 - acc: 0.9875 - val_loss: 0.0266 - val_acc: 0.9931\n",
      "Epoch 16/30\n",
      " - 40s - loss: 0.0457 - acc: 0.9864 - val_loss: 0.0206 - val_acc: 0.9938\n",
      "\n",
      "Epoch 00016: ReduceLROnPlateau reducing learning rate to 0.0002500000118743628.\n",
      "Epoch 17/30\n",
      " - 42s - loss: 0.0366 - acc: 0.9889 - val_loss: 0.0218 - val_acc: 0.9929\n",
      "Epoch 18/30\n",
      " - 40s - loss: 0.0386 - acc: 0.9891 - val_loss: 0.0168 - val_acc: 0.9950\n",
      "Epoch 19/30\n",
      " - 37s - loss: 0.0382 - acc: 0.9889 - val_loss: 0.0214 - val_acc: 0.9933\n",
      "Epoch 20/30\n",
      " - 45s - loss: 0.0383 - acc: 0.9893 - val_loss: 0.0204 - val_acc: 0.9936\n",
      "Epoch 21/30\n",
      " - 43s - loss: 0.0361 - acc: 0.9898 - val_loss: 0.0231 - val_acc: 0.9938\n",
      "\n",
      "Epoch 00021: ReduceLROnPlateau reducing learning rate to 0.0001250000059371814.\n",
      "Epoch 22/30\n",
      " - 45s - loss: 0.0362 - acc: 0.9894 - val_loss: 0.0168 - val_acc: 0.9950\n",
      "Epoch 23/30\n",
      " - 48s - loss: 0.0314 - acc: 0.9908 - val_loss: 0.0186 - val_acc: 0.9945\n",
      "Epoch 24/30\n",
      " - 40s - loss: 0.0326 - acc: 0.9900 - val_loss: 0.0198 - val_acc: 0.9943\n",
      "\n",
      "Epoch 00024: ReduceLROnPlateau reducing learning rate to 6.25000029685907e-05.\n",
      "Epoch 25/30\n",
      " - 43s - loss: 0.0309 - acc: 0.9904 - val_loss: 0.0184 - val_acc: 0.9952\n",
      "Epoch 26/30\n",
      " - 42s - loss: 0.0339 - acc: 0.9903 - val_loss: 0.0201 - val_acc: 0.9948\n",
      "Epoch 27/30\n",
      " - 42s - loss: 0.0302 - acc: 0.9913 - val_loss: 0.0183 - val_acc: 0.9950\n",
      "Epoch 28/30\n",
      " - 42s - loss: 0.0323 - acc: 0.9908 - val_loss: 0.0175 - val_acc: 0.9957\n",
      "Epoch 29/30\n",
      " - 43s - loss: 0.0339 - acc: 0.9907 - val_loss: 0.0189 - val_acc: 0.9948\n",
      "Epoch 30/30\n",
      " - 45s - loss: 0.0322 - acc: 0.9911 - val_loss: 0.0175 - val_acc: 0.9948\n"
     ]
    }
   ],
   "source": [
    "learning_rate_reduction = ReduceLROnPlateau(monitor='val_acc', patience=3, verbose=1,factor=0.5,min_lr=0.00001)\n",
    "epochs = 30\n",
    "batch_size = 86\n",
    "\n",
    "history = model.fit_generator(datagen.flow(X_train, Y_train, batch_size=batch_size), epochs=epochs, validation_data=(X_val, Y_val), verbose=2, steps_per_epoch=X_train.shape[0] // batch_size, callbacks=[learning_rate_reduction])"
   ]
  },
  {
   "cell_type": "code",
   "execution_count": 15,
   "metadata": {},
   "outputs": [
    {
     "data": {
      "image/png": "[encoded data removed]",
      "text/plain": [
       "<Figure size 432x288 with 2 Axes>"
      ]
     },
     "metadata": {
      "needs_background": "light"
     },
     "output_type": "display_data"
    }
   ],
   "source": [
    "fig, ax = plt.subplots(2,1)\n",
    "ax[0].plot(history.history['loss'], color='b', label=\"Training loss\")\n",
    "ax[0].plot(history.history['val_loss'], color='r', label=\"validation loss\",axes =ax[0])\n",
    "legend = ax[0].legend(loc='best', shadow=True)\n",
    "\n",
    "ax[1].plot(history.history['acc'], color='b', label=\"Training accuracy\")\n",
    "ax[1].plot(history.history['val_acc'], color='r',label=\"Validation accuracy\")\n",
    "legend = ax[1].legend(loc='best', shadow=True)"
   ]
  },
  {
   "cell_type": "code",
   "execution_count": 16,
   "metadata": {},
   "outputs": [],
   "source": [
    "results = model.predict(test)\n",
    "\n",
    "# select the indix with the maximum probability\n",
    "results = np.argmax(results,axis = 1)\n",
    "\n",
    "results = pd.Series(results,name=\"Label\")"
   ]
  },
  {
   "cell_type": "code",
   "execution_count": 17,
   "metadata": {},
   "outputs": [],
   "source": [
    "submission = pd.concat([pd.Series(range(1,28001),name = \"ImageId\"),results],axis = 1)\n",
    "\n",
    "submission.to_csv(\"cnn_mnist_datagen.csv\",index=False)"
   ]
  },
  {
   "cell_type": "code",
   "execution_count": null,
   "metadata": {},
   "outputs": [],
   "source": []
  }
 ],
 "metadata": {
  "kernelspec": {
   "display_name": "Python 3",
   "language": "python",
   "name": "python3"
  },
  "language_info": {
   "codemirror_mode": {
    "name": "ipython",
    "version": 3
   },
   "file_extension": ".py",
   "mimetype": "text/x-python",
   "name": "python",
   "nbconvert_exporter": "python",
   "pygments_lexer": "ipython3",
   "version": "3.7.3"
  }
 },
 "nbformat": 4,
 "nbformat_minor": 2
}
